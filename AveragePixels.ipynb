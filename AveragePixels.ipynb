{
 "cells": [
  {
   "cell_type": "markdown",
   "metadata": {},
   "source": [
    "### Setting up Your Local Spark Cluster"
   ]
  },
  {
   "cell_type": "markdown",
   "metadata": {
    "collapsed": true
   },
   "source": [
    "I found these two sites to be useful for installing spark, setting up a local cluster, and linking spark to ipython:\n",
    "\n",
    "https://districtdatalabs.silvrback.com/getting-started-with-spark-in-python\n",
    "\n",
    "http://pulasthisupun.blogspot.ca/2013/11/how-to-set-up-apache-spark-cluster-in.html\n",
    "\n",
    "To set up a cluster locally you must ensure that your computer can ssh into itself (the slaves have to be able to ssh into the master for spark to connect properly).  The status of your local spark cluster can be monitored through the WebUI at http://localhost:8080."
   ]
  },
  {
   "cell_type": "markdown",
   "metadata": {},
   "source": [
    "### My Configuration"
   ]
  },
  {
   "cell_type": "markdown",
   "metadata": {},
   "source": [
    "I don't claim to be an expert, for me this is still experimental.  \n",
    "My computer has 4 cores and 16 GB of RAM.\n",
    "\n",
    "I set up 4 workers, each with 3GB and 1 core"
   ]
  },
  {
   "cell_type": "markdown",
   "metadata": {},
   "source": [
    "$SPARK_HOME/spark-1.3.1/conf/spark-env.sh:"
   ]
  },
  {
   "cell_type": "code",
   "execution_count": null,
   "metadata": {
    "collapsed": true
   },
   "outputs": [],
   "source": [
    "#!/usr/bin/env bash\n",
    "\n",
    "export SCALA_HOME=/usr/local/Cellar/scala/2.11.5/libexec/\n",
    "export SPARK_WORKER_CORES=1\n",
    "export SPARK_WORKER_MEMORY=3g\n",
    "export SPARK_WORKER_INSTANCES=4\n",
    "export SPARK_WORKER_DIR=/Users/brock.moir/tempdata/sparkdata"
   ]
  },
  {
   "cell_type": "markdown",
   "metadata": {},
   "source": [
    "I noticed that the executor defaults to only 512MB.  I interpreted this as being the memory assigned to each worker for each application.  I set the default to 3GB for two reasons:\n",
    "\n",
    "I am the only one using this cluster so I want to use all the resources\n",
    "\n",
    "I couldn't generate a SparkContext with a properly configured SparkConf object which would allow me to change this setting"
   ]
  },
  {
   "cell_type": "markdown",
   "metadata": {},
   "source": [
    "spark-1.3.1/conf/spark-defaults.conf:"
   ]
  },
  {
   "cell_type": "code",
   "execution_count": null,
   "metadata": {
    "collapsed": true
   },
   "outputs": [],
   "source": [
    "spark.executor.memory   3g"
   ]
  },
  {
   "cell_type": "markdown",
   "metadata": {},
   "source": [
    "Finally, I found the default verbosity of spark to make debugging my code even more frustrating than it should be.  I set it print WARN or worse, otherwise it burried any python runtime errors in useless INFO statements.  When running in notebook, I can check the errors and warnings from the terminal.\n",
    "\n",
    "This is done by changing all the INFO flags in $SPARK_HOME/spark-1.3.1/conf/log4j.properties to WARN"
   ]
  },
  {
   "cell_type": "markdown",
   "metadata": {},
   "source": [
    "### The Spark Context"
   ]
  },
  {
   "cell_type": "markdown",
   "metadata": {},
   "source": [
    "From https://spark.apache.org/docs/1.2.1/api/scala/index.html#org.apache.spark.SparkContext:\n",
    "\n",
    "\"Main entry point for Spark functionality. A SparkContext represents the connection to a Spark cluster, and can be used to create RDDs, accumulators and broadcast variables on that cluster.\n",
    "\n",
    "Only one SparkContext may be active per JVM. You must stop() the active SparkContext before creating a new one. This limitation may eventually be removed; see SPARK-2243 for more details.\"\n",
    "\n",
    "Here I have connected the context to my local spark cluster.  When we are done with our context, we can stop it using sc.stop()"
   ]
  },
  {
   "cell_type": "code",
   "execution_count": 1,
   "metadata": {
    "collapsed": false
   },
   "outputs": [],
   "source": [
    "from pyspark import  SparkContext\n",
    "sc = SparkContext( 'spark://pulmac27.local:7077', 'Average Pixels')"
   ]
  },
  {
   "cell_type": "code",
   "execution_count": 7,
   "metadata": {
    "collapsed": true
   },
   "outputs": [],
   "source": [
    "sc.stop()"
   ]
  },
  {
   "cell_type": "markdown",
   "metadata": {
    "collapsed": true
   },
   "source": [
    "### An Example"
   ]
  },
  {
   "cell_type": "markdown",
   "metadata": {},
   "source": [
    "Now that Spark is installed and configured and we have a context pointing us to a cluster, we can run Spark jobs and take avantage of Spark's lightning fast analysis capabilities.  \n",
    "\n",
    "For this project I will be working with the MNIST Handwritten digits data that can be found among other places here: https://www.kaggle.com/c/digit-recognizer/data.  \n",
    "\n",
    "I will do a simple analysis to get the average pixel values for each digit similar to that done on forum thread: https://www.kaggle.com/c/digit-recognizer/forums/t/12822/plot-the-digits-using-average-of-the-corresponding-pixels.\n",
    "\n",
    "The training data is stored as a csv with each row giving the digit followed by a list of the flattened 28 x 28 pixel value matrix."
   ]
  },
  {
   "cell_type": "code",
   "execution_count": 2,
   "metadata": {
    "collapsed": false
   },
   "outputs": [],
   "source": [
    "filepath = \"/Users/brock.moir/MyProjects/MNIST-Spark/data/\"\n",
    "pixel_labels = open(filepath + \"headers.txt\").read().split(',')[1:]"
   ]
  },
  {
   "cell_type": "code",
   "execution_count": 3,
   "metadata": {
    "collapsed": false
   },
   "outputs": [],
   "source": [
    "train_rdd = sc.textFile(filepath + \"train.csv\", minPartitions = 4)"
   ]
  },
  {
   "cell_type": "markdown",
   "metadata": {},
   "source": [
    "### Structuring a Job"
   ]
  },
  {
   "cell_type": "markdown",
   "metadata": {},
   "source": [
    "To use the methods available in Spark core we need to break the analysis up into a few steps.  \n",
    "\n",
    "First we need to parse each line of the csv to produce a paired RDD consisting of keys (digits) and values (list of pixel values and initial count pairs) that can then be combined with a reduce method.  \n",
    "\n",
    "The reduction function is an instruction that tells spark how to combine the values associated to the same key.  In our case we want to average each pixel, so we sum each pixel value and sum the counts of the number of unique values in each sum.\n",
    "\n",
    "The final step is to calculate the pixel means from the reduced RDD with a mapping function that divides the total sum by the total count (this could probably be done in the reduction step as well, I will leave it as an exercise for the reader).\n",
    "\n",
    "Each step of the analysis requires its own function:"
   ]
  },
  {
   "cell_type": "code",
   "execution_count": 4,
   "metadata": {
    "collapsed": false
   },
   "outputs": [],
   "source": [
    "def parseLine(line): \n",
    "    line = line.split(\",\")\n",
    "    key = line[0]\n",
    "    pixels = line[1:]\n",
    "    value = []\n",
    "    for pixel in range(len(pixels)):\n",
    "        value.append([float(pixels[pixel]), 1.])  \n",
    "    return key, value\n",
    "\n",
    "def reduceValues(value1, value2):\n",
    "    new_value = []\n",
    "    for pixel in range(len(value1)):\n",
    "        new_value.append([value1[pixel][0] + value2[pixel][0], \n",
    "                          value1[pixel][1] + value2[pixel][1]])\n",
    "    return new_value\n",
    "\n",
    "def getMeans(line):\n",
    "    key, value = line[0], line[1]\n",
    "    new_value = []\n",
    "    for pixel in range(len(value)):\n",
    "        psum, pcount = value[pixel][0], value[pixel][1]\n",
    "        new_value.append(psum/pcount)\n",
    "    return key, new_value  "
   ]
  },
  {
   "cell_type": "markdown",
   "metadata": {},
   "source": [
    "The pixel means are found below by mapping, reducing, then a final mapping.  Spark is able to sort the RDD by keys, which puts the digits in the correct order.  Finally we ask spark to calculate these values by calling collect().\n",
    "\n",
    "\n",
    "The spark job will not kick off until you ask it to return a value (.collect() here returns all the key value pairs defined in getMeans()).  \n",
    "\n",
    "At this point I will no longer need my spark context, so I end it using sc.stop()."
   ]
  },
  {
   "cell_type": "code",
   "execution_count": 5,
   "metadata": {
    "collapsed": false
   },
   "outputs": [],
   "source": [
    "pixel_means = train_rdd.map(lambda line: parseLine(line))\\\n",
    ".reduceByKey(lambda v1, v2: reduceValues(v1, v2))\\\n",
    ".map(lambda line: getMeans(line)).sortByKey(True).collect()"
   ]
  },
  {
   "cell_type": "markdown",
   "metadata": {},
   "source": [
    "### Plotting the Results"
   ]
  },
  {
   "cell_type": "markdown",
   "metadata": {},
   "source": [
    "Now I have what I need to plot the average handwritten digit, I just need to restructure each digit's list and then plot the pixels.\n",
    "\n",
    "The final result is a visualization of the similarities in how each number is written across this population."
   ]
  },
  {
   "cell_type": "code",
   "execution_count": 6,
   "metadata": {
    "collapsed": false
   },
   "outputs": [
    {
     "data": {
      "image/png": "[encoded data removed]",
      "text/plain": [
       "<matplotlib.figure.Figure at 0x10b99a210>"
      ]
     },
     "metadata": {},
     "output_type": "display_data"
    }
   ],
   "source": [
    "import numpy as np\n",
    "import matplotlib.pyplot as plt\n",
    "import matplotlib.cm as cm\n",
    "%matplotlib inline\n",
    "\n",
    "size = (28,28)\n",
    "\n",
    "for digit in range(len(pixel_means)):\n",
    "    index = int(pixel_means[digit][0])\n",
    "    pixel_means[index] = np.array(pixel_means[digit][1])\n",
    "    pixel_means[index] = pixel_means[index].reshape(size)\n",
    "    \n",
    "    plt.subplot(3,4,digit+1)\n",
    "    plt.gca().axes.get_xaxis().set_visible(False)\n",
    "    plt.gca().axes.get_yaxis().set_visible(False)\n",
    "    plt.imshow(pixel_means[digit], cmap = cm.Greys_r)"
   ]
  }
 ],
 "metadata": {
  "kernelspec": {
   "display_name": "Python 3",
   "language": "python",
   "name": "python3"
  },
  "language_info": {
   "codemirror_mode": {
    "name": "ipython",
    "version": 3
   },
   "file_extension": ".py",
   "mimetype": "text/x-python",
   "name": "python",
   "nbconvert_exporter": "python",
   "pygments_lexer": "ipython3",
   "version": "3.5.3"
  }
 },
 "nbformat": 4,
 "nbformat_minor": 0
}
